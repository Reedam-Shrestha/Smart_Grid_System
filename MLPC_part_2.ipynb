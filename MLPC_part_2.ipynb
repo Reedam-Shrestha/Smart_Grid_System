{
  "cells": [
    {
      "cell_type": "code",
      "execution_count": null,
      "metadata": {
        "colab": {
          "base_uri": "https://localhost:8080/"
        },
        "id": "Q69b6LcNUBPZ",
        "outputId": "45a2e136-5c66-453f-afdb-82e1c71ace9c"
      },
      "outputs": [
        {
          "name": "stdout",
          "output_type": "stream",
          "text": [
            "Requirement already satisfied: pandas in /usr/local/lib/python3.11/dist-packages (2.2.2)\n",
            "Requirement already satisfied: numpy in /usr/local/lib/python3.11/dist-packages (2.0.2)\n",
            "Requirement already satisfied: python-dateutil>=2.8.2 in /usr/local/lib/python3.11/dist-packages (from pandas) (2.9.0.post0)\n",
            "Requirement already satisfied: pytz>=2020.1 in /usr/local/lib/python3.11/dist-packages (from pandas) (2025.2)\n",
            "Requirement already satisfied: tzdata>=2022.7 in /usr/local/lib/python3.11/dist-packages (from pandas) (2025.2)\n",
            "Requirement already satisfied: six>=1.5 in /usr/local/lib/python3.11/dist-packages (from python-dateutil>=2.8.2->pandas) (1.17.0)\n"
          ]
        }
      ],
      "source": [
        "!pip install pandas numpy\n"
      ]
    },
    {
      "cell_type": "markdown",
      "metadata": {
        "id": "e1IpcMzIR4yF"
      },
      "source": [
        "Import Libaries and load dataset"
      ]
    },
    {
      "cell_type": "code",
      "execution_count": null,
      "metadata": {
        "colab": {
          "background_save": true,
          "base_uri": "https://localhost:8080/",
          "height": 142
        },
        "id": "FN-fcHkcUJKU",
        "outputId": "a3399f66-b3db-49ad-acd8-03e0a48e0094"
      },
      "outputs": [
        {
          "data": {
            "text/html": [
              "\n",
              "     <input type=\"file\" id=\"files-e5e510f5-08c7-41ff-89aa-956eb2eddf01\" name=\"files[]\" multiple disabled\n",
              "        style=\"border:none\" />\n",
              "     <output id=\"result-e5e510f5-08c7-41ff-89aa-956eb2eddf01\">\n",
              "      Upload widget is only available when the cell has been executed in the\n",
              "      current browser session. Please rerun this cell to enable.\n",
              "      </output>\n",
              "      <script>// Copyright 2017 Google LLC\n",
              "//\n",
              "// Licensed under the Apache License, Version 2.0 (the \"License\");\n",
              "// you may not use this file except in compliance with the License.\n",
              "// You may obtain a copy of the License at\n",
              "//\n",
              "//      http://www.apache.org/licenses/LICENSE-2.0\n",
              "//\n",
              "// Unless required by applicable law or agreed to in writing, software\n",
              "// distributed under the License is distributed on an \"AS IS\" BASIS,\n",
              "// WITHOUT WARRANTIES OR CONDITIONS OF ANY KIND, either express or implied.\n",
              "// See the License for the specific language governing permissions and\n",
              "// limitations under the License.\n",
              "\n",
              "/**\n",
              " * @fileoverview Helpers for google.colab Python module.\n",
              " */\n",
              "(function(scope) {\n",
              "function span(text, styleAttributes = {}) {\n",
              "  const element = document.createElement('span');\n",
              "  element.textContent = text;\n",
              "  for (const key of Object.keys(styleAttributes)) {\n",
              "    element.style[key] = styleAttributes[key];\n",
              "  }\n",
              "  return element;\n",
              "}\n",
              "\n",
              "// Max number of bytes which will be uploaded at a time.\n",
              "const MAX_PAYLOAD_SIZE = 100 * 1024;\n",
              "\n",
              "function _uploadFiles(inputId, outputId) {\n",
              "  const steps = uploadFilesStep(inputId, outputId);\n",
              "  const outputElement = document.getElementById(outputId);\n",
              "  // Cache steps on the outputElement to make it available for the next call\n",
              "  // to uploadFilesContinue from Python.\n",
              "  outputElement.steps = steps;\n",
              "\n",
              "  return _uploadFilesContinue(outputId);\n",
              "}\n",
              "\n",
              "// This is roughly an async generator (not supported in the browser yet),\n",
              "// where there are multiple asynchronous steps and the Python side is going\n",
              "// to poll for completion of each step.\n",
              "// This uses a Promise to block the python side on completion of each step,\n",
              "// then passes the result of the previous step as the input to the next step.\n",
              "function _uploadFilesContinue(outputId) {\n",
              "  const outputElement = document.getElementById(outputId);\n",
              "  const steps = outputElement.steps;\n",
              "\n",
              "  const next = steps.next(outputElement.lastPromiseValue);\n",
              "  return Promise.resolve(next.value.promise).then((value) => {\n",
              "    // Cache the last promise value to make it available to the next\n",
              "    // step of the generator.\n",
              "    outputElement.lastPromiseValue = value;\n",
              "    return next.value.response;\n",
              "  });\n",
              "}\n",
              "\n",
              "/**\n",
              " * Generator function which is called between each async step of the upload\n",
              " * process.\n",
              " * @param {string} inputId Element ID of the input file picker element.\n",
              " * @param {string} outputId Element ID of the output display.\n",
              " * @return {!Iterable<!Object>} Iterable of next steps.\n",
              " */\n",
              "function* uploadFilesStep(inputId, outputId) {\n",
              "  const inputElement = document.getElementById(inputId);\n",
              "  inputElement.disabled = false;\n",
              "\n",
              "  const outputElement = document.getElementById(outputId);\n",
              "  outputElement.innerHTML = '';\n",
              "\n",
              "  const pickedPromise = new Promise((resolve) => {\n",
              "    inputElement.addEventListener('change', (e) => {\n",
              "      resolve(e.target.files);\n",
              "    });\n",
              "  });\n",
              "\n",
              "  const cancel = document.createElement('button');\n",
              "  inputElement.parentElement.appendChild(cancel);\n",
              "  cancel.textContent = 'Cancel upload';\n",
              "  const cancelPromise = new Promise((resolve) => {\n",
              "    cancel.onclick = () => {\n",
              "      resolve(null);\n",
              "    };\n",
              "  });\n",
              "\n",
              "  // Wait for the user to pick the files.\n",
              "  const files = yield {\n",
              "    promise: Promise.race([pickedPromise, cancelPromise]),\n",
              "    response: {\n",
              "      action: 'starting',\n",
              "    }\n",
              "  };\n",
              "\n",
              "  cancel.remove();\n",
              "\n",
              "  // Disable the input element since further picks are not allowed.\n",
              "  inputElement.disabled = true;\n",
              "\n",
              "  if (!files) {\n",
              "    return {\n",
              "      response: {\n",
              "        action: 'complete',\n",
              "      }\n",
              "    };\n",
              "  }\n",
              "\n",
              "  for (const file of files) {\n",
              "    const li = document.createElement('li');\n",
              "    li.append(span(file.name, {fontWeight: 'bold'}));\n",
              "    li.append(span(\n",
              "        `(${file.type || 'n/a'}) - ${file.size} bytes, ` +\n",
              "        `last modified: ${\n",
              "            file.lastModifiedDate ? file.lastModifiedDate.toLocaleDateString() :\n",
              "                                    'n/a'} - `));\n",
              "    const percent = span('0% done');\n",
              "    li.appendChild(percent);\n",
              "\n",
              "    outputElement.appendChild(li);\n",
              "\n",
              "    const fileDataPromise = new Promise((resolve) => {\n",
              "      const reader = new FileReader();\n",
              "      reader.onload = (e) => {\n",
              "        resolve(e.target.result);\n",
              "      };\n",
              "      reader.readAsArrayBuffer(file);\n",
              "    });\n",
              "    // Wait for the data to be ready.\n",
              "    let fileData = yield {\n",
              "      promise: fileDataPromise,\n",
              "      response: {\n",
              "        action: 'continue',\n",
              "      }\n",
              "    };\n",
              "\n",
              "    // Use a chunked sending to avoid message size limits. See b/62115660.\n",
              "    let position = 0;\n",
              "    do {\n",
              "      const length = Math.min(fileData.byteLength - position, MAX_PAYLOAD_SIZE);\n",
              "      const chunk = new Uint8Array(fileData, position, length);\n",
              "      position += length;\n",
              "\n",
              "      const base64 = btoa(String.fromCharCode.apply(null, chunk));\n",
              "      yield {\n",
              "        response: {\n",
              "          action: 'append',\n",
              "          file: file.name,\n",
              "          data: base64,\n",
              "        },\n",
              "      };\n",
              "\n",
              "      let percentDone = fileData.byteLength === 0 ?\n",
              "          100 :\n",
              "          Math.round((position / fileData.byteLength) * 100);\n",
              "      percent.textContent = `${percentDone}% done`;\n",
              "\n",
              "    } while (position < fileData.byteLength);\n",
              "  }\n",
              "\n",
              "  // All done.\n",
              "  yield {\n",
              "    response: {\n",
              "      action: 'complete',\n",
              "    }\n",
              "  };\n",
              "}\n",
              "\n",
              "scope.google = scope.google || {};\n",
              "scope.google.colab = scope.google.colab || {};\n",
              "scope.google.colab._files = {\n",
              "  _uploadFiles,\n",
              "  _uploadFilesContinue,\n",
              "};\n",
              "})(self);\n",
              "</script> "
            ],
            "text/plain": [
              "<IPython.core.display.HTML object>"
            ]
          },
          "metadata": {},
          "output_type": "display_data"
        }
      ],
      "source": [
        "from google.colab import files\n",
        "uploaded = files.upload()\n"
      ]
    },
    {
      "cell_type": "code",
      "execution_count": null,
      "metadata": {
        "id": "TlgKZGp-XUIk"
      },
      "outputs": [],
      "source": [
        "import pandas as pd\n",
        "import numpy as np\n",
        "import random\n"
      ]
    },
    {
      "cell_type": "markdown",
      "metadata": {
        "id": "o36o24X5SAVx"
      },
      "source": [
        "Set Parameters"
      ]
    },
    {
      "cell_type": "code",
      "execution_count": null,
      "metadata": {
        "id": "UHR9GXeTXYBf"
      },
      "outputs": [],
      "source": [
        "POPULATION_SIZE = 10\n",
        "NUM_GENERATIONS = 3\n",
        "MUTATION_RATE = 0.01\n",
        "CHROMOSOME_LENGTH = len(demand_df)\n",
        "\n"
      ]
    },
    {
      "cell_type": "code",
      "execution_count": null,
      "metadata": {
        "id": "wp78TvaIndl-"
      },
      "outputs": [],
      "source": [
        "valid_sources_per_node = topology_df.groupby('node_id')['source_id'].apply(list).to_dict()"
      ]
    },
    {
      "cell_type": "markdown",
      "metadata": {
        "id": "sqrb_zRLSC--"
      },
      "source": [
        "Chromosome Encoding"
      ]
    },
    {
      "cell_type": "code",
      "execution_count": null,
      "metadata": {
        "id": "zO79PF4zXZ3z"
      },
      "outputs": [],
      "source": [
        "def initialize_population():\n",
        "    population = []\n",
        "    for _ in range(POPULATION_SIZE):\n",
        "        chromosome = []\n",
        "        for i, row in demand_df.iterrows():\n",
        "            node_id = row['node_id']\n",
        "            sources = valid_sources_per_node.get(node_id, list(source_df['source_id']))\n",
        "            chromosome.append(random.choice(sources))\n",
        "        population.append(chromosome)\n",
        "    return population\n",
        "\n",
        "\n",
        "\n"
      ]
    },
    {
      "cell_type": "code",
      "execution_count": null,
      "metadata": {
        "id": "Rgb0gOfNoy8Y"
      },
      "outputs": [],
      "source": [
        "def initialize_population(pop_size, gene_pool):\n",
        "    return [np.random.choice(gene_pool, CHROMOSOME_LENGTH).tolist() for _ in range(pop_size)]\n"
      ]
    },
    {
      "cell_type": "markdown",
      "metadata": {
        "id": "O3JhdQ9iSFJx"
      },
      "source": [
        "Fitness Function"
      ]
    },
    {
      "cell_type": "code",
      "execution_count": null,
      "metadata": {
        "id": "4Y9PVNhQlu1C"
      },
      "outputs": [],
      "source": [
        "def evaluate_fitness(chromosome):\n",
        "    total_cost = 0\n",
        "    penalty = 0\n",
        "    source_capacity_used = {}\n",
        "\n",
        "    for i, source_id in enumerate(chromosome):\n",
        "        node_id = demand_df.iloc[i]['node_id']\n",
        "        demand = demand_df.iloc[i]['demand_kw']\n",
        "\n",
        "        try:\n",
        "            cost_per_kw = source_df[source_df['source_id'] == source_id]['cost_per_kw'].values[0]\n",
        "            capacity = source_df[source_df['source_id'] == source_id]['capacity_kw'].values[0]\n",
        "        except:\n",
        "            penalty += 10000\n",
        "            continue\n",
        "\n",
        "\n",
        "        try:\n",
        "            row = topology_df[(topology_df['source_id'] == source_id) & (topology_df['node_id'] == node_id)].iloc[0]\n",
        "            loss = row['loss_coefficient']\n",
        "            distance = row['distance_km']\n",
        "        except:\n",
        "            penalty += 5000\n",
        "            continue\n",
        "\n",
        "        actual_demand = demand * (1 + loss * distance)\n",
        "\n",
        "        source_capacity_used[source_id] = source_capacity_used.get(source_id, 0) + actual_demand\n",
        "        if source_capacity_used[source_id] > capacity:\n",
        "            penalty += 1000  # Overuse\n",
        "\n",
        "        total_cost += actual_demand * cost_per_kw\n",
        "\n",
        "    return total_cost + penalty\n"
      ]
    },
    {
      "cell_type": "markdown",
      "metadata": {
        "id": "KuYdKlGuSHeH"
      },
      "source": [
        "Selection – Tournament"
      ]
    },
    {
      "cell_type": "code",
      "execution_count": null,
      "metadata": {
        "id": "kMcWeRrTXeUn"
      },
      "outputs": [],
      "source": [
        "\n",
        "def tournament_selection(population, fitness_scores, k=3):\n",
        "    selected = []\n",
        "    for _ in range(len(population)):\n",
        "        contenders = random.sample(list(zip(population, fitness_scores)), k)\n",
        "        winner = min(contenders, key=lambda x: x[1])[0]\n",
        "        selected.append(winner)\n",
        "    return selected\n",
        "\n",
        "\n"
      ]
    },
    {
      "cell_type": "markdown",
      "metadata": {
        "id": "hhCw5bSdSLSv"
      },
      "source": [
        "Crossover"
      ]
    },
    {
      "cell_type": "code",
      "execution_count": null,
      "metadata": {
        "id": "0WuTEA_xXgOB"
      },
      "outputs": [],
      "source": [
        "\n",
        "def crossover(p1, p2):\n",
        "    point = random.randint(1, CHROMOSOME_LENGTH - 1)\n",
        "    return p1[:point] + p2[point:]\n",
        "\n",
        "\n"
      ]
    },
    {
      "cell_type": "markdown",
      "metadata": {
        "id": "40tOocRhSMaf"
      },
      "source": [
        "Mutation"
      ]
    },
    {
      "cell_type": "code",
      "execution_count": null,
      "metadata": {
        "id": "2AndzUWhXiEE"
      },
      "outputs": [],
      "source": [
        "\n",
        "def mutate(chromosome):\n",
        "    for i in range(CHROMOSOME_LENGTH):\n",
        "        if random.random() < MUTATION_RATE:\n",
        "            node_id = demand_df.iloc[i]['node_id']\n",
        "            sources = valid_sources_per_node.get(node_id, list(source_df['source_id']))\n",
        "            chromosome[i] = random.choice(sources)\n",
        "    return chromosome"
      ]
    },
    {
      "cell_type": "markdown",
      "metadata": {
        "id": "1cyO2-xuSRWY"
      },
      "source": [
        "Genetic Algorithm"
      ]
    },
    {
      "cell_type": "code",
      "execution_count": null,
      "metadata": {
        "id": "pq_rRoJopwEk"
      },
      "outputs": [],
      "source": [
        "def run_ga():\n",
        "    population = initialize_population()\n",
        "    for gen in range(NUM_GENERATIONS):\n",
        "        fitness_scores = [evaluate_fitness(ind) for ind in population]\n",
        "        best_fitness = min(fitness_scores)\n",
        "        avg_fitness = sum(fitness_scores) / len(fitness_scores)\n",
        "        print(f\"Generation {gen+1}\")\n",
        "        print(f\"  Best Fitness: {best_fitness:.2f} | Avg Fitness: {avg_fitness:.2f}\")\n",
        "\n",
        "        selected = tournament_selection(population, fitness_scores)\n",
        "        children = []\n",
        "\n",
        "        for i in range(0, POPULATION_SIZE, 2):\n",
        "            if i+1 < POPULATION_SIZE:\n",
        "                child1 = crossover(selected[i], selected[i+1])\n",
        "                child2 = crossover(selected[i+1], selected[i])\n",
        "                child1 = mutate(child1)\n",
        "                child2 = mutate(child2)\n",
        "                children.extend([child1, child2])\n",
        "\n",
        "        population = children\n",
        "\n",
        "\n",
        "    final_fitness = [evaluate_fitness(ind) for ind in population]\n",
        "    best_idx = np.argmin(final_fitness)\n",
        "    print(\"Final Best Fitness:\", final_fitness[best_idx])\n",
        "    return population[best_idx]\n"
      ]
    },
    {
      "cell_type": "code",
      "execution_count": null,
      "metadata": {
        "colab": {
          "base_uri": "https://localhost:8080/"
        },
        "id": "SP3VmlJQmjTj",
        "outputId": "ea2f811d-041a-412a-bc81-c7588d32bfc5"
      },
      "outputs": [
        {
          "name": "stdout",
          "output_type": "stream",
          "text": [
            "Generation 1\n",
            "  Best Fitness: 998659.58 | Avg Fitness: 1000575.59\n",
            "Generation 2\n",
            "  Best Fitness: 998767.66 | Avg Fitness: 999855.18\n",
            "Generation 3\n",
            "  Best Fitness: 998871.88 | Avg Fitness: 999675.09\n",
            "Final Best Fitness: 998841.0147609476\n"
          ]
        }
      ],
      "source": [
        "\n",
        "    final_fitness = [evaluate_fitness(ind) for ind in population]\n",
        "    best_idx = np.argmin(final_fitness)\n",
        "    print(\"Final Best Fitness:\", final_fitness[best_idx])\n",
        "    return population[best_idx]\n",
        "\n",
        "\n",
        "best_solution = run_ga()"
      ]
    }
  ],
  "metadata": {
    "colab": {
      "provenance": []
    },
    "kernelspec": {
      "display_name": "Python 3",
      "name": "python3"
    },
    "language_info": {
      "name": "python"
    }
  },
  "nbformat": 4,
  "nbformat_minor": 0
}